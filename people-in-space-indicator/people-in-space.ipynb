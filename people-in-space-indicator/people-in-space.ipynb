{
 "cells": [
  {
   "cell_type": "markdown",
   "metadata": {},
   "source": [
    "# People in Space Indicator"
   ]
  },
  {
   "cell_type": "markdown",
   "metadata": {},
   "source": [
    "Once again we're going to borrow someone's code who has already written functions `get()` and `json()` to get the information that we need.  This is in the `requests` module"
   ]
  },
  {
   "cell_type": "code",
   "execution_count": 3,
   "metadata": {
    "collapsed": true
   },
   "outputs": [],
   "source": [
    "import requests"
   ]
  },
  {
   "cell_type": "markdown",
   "metadata": {},
   "source": [
    "Now let's get the data.  It can be found on the website: http://api.open-notify.org/astros.json. Let's take a look:\n",
    "\n",
    "<img src=\"https://www.raspberrypi.org/learning/people-in-space-indicator/images/people-in-space-api-screenshot.png\"></img>"
   ]
  },
  {
   "cell_type": "code",
   "execution_count": 4,
   "metadata": {
    "collapsed": false
   },
   "outputs": [
    {
     "data": {
      "text/plain": [
       "True"
      ]
     },
     "execution_count": 4,
     "metadata": {},
     "output_type": "execute_result"
    }
   ],
   "source": [
    "url = \"http://api.open-notify.org/astros.json\"\n",
    "\n",
    "r = requests.get(url)\n",
    "r.ok"
   ]
  },
  {
   "cell_type": "markdown",
   "metadata": {},
   "source": [
    "We talked about \"lists\" earlier this `get()` function creates a \"dictionary\".  Dictionaries are like finding books in a library.  You get the index number and can go to the location and get the book you need."
   ]
  },
  {
   "cell_type": "code",
   "execution_count": 11,
   "metadata": {
    "collapsed": false
   },
   "outputs": [
    {
     "name": "stdout",
     "output_type": "stream",
     "text": [
      "{\n",
      "  \"message\": \"success\", \n",
      "  \"number\": 3, \n",
      "  \"people\": [\n",
      "    {\n",
      "      \"craft\": \"ISS\", \n",
      "      \"name\": \"Alexey Ovchinin\"\n",
      "    }, \n",
      "    {\n",
      "      \"craft\": \"ISS\", \n",
      "      \"name\": \"Oleg Skripochka\"\n",
      "    }, \n",
      "    {\n",
      "      \"craft\": \"ISS\", \n",
      "      \"name\": \"Jeff Williams\"\n",
      "    }\n",
      "  ]\n",
      "}\n",
      "\n"
     ]
    }
   ],
   "source": [
    "print r.text"
   ]
  },
  {
   "cell_type": "markdown",
   "metadata": {},
   "source": [
    "## How many people are in space?"
   ]
  },
  {
   "cell_type": "markdown",
   "metadata": {},
   "source": [
    "We can find an object in the space dictionary by using the `j['object name']` command."
   ]
  },
  {
   "cell_type": "code",
   "execution_count": 5,
   "metadata": {
    "collapsed": false
   },
   "outputs": [
    {
     "data": {
      "text/plain": [
       "3"
      ]
     },
     "execution_count": 5,
     "metadata": {},
     "output_type": "execute_result"
    }
   ],
   "source": [
    "j = r.json()\n",
    "j['number']"
   ]
  },
  {
   "cell_type": "markdown",
   "metadata": {},
   "source": [
    "## `for` loops\n",
    "\n",
    "In python you can create loops to repeat a set of steps. In this code we are going to use a `for` loop.  Let's see if we can create a countdown."
   ]
  },
  {
   "cell_type": "code",
   "execution_count": 6,
   "metadata": {
    "collapsed": false
   },
   "outputs": [
    {
     "name": "stdout",
     "output_type": "stream",
     "text": [
      "5\n",
      "4\n",
      "3\n",
      "2\n",
      "1\n",
      "Blast-off!\n"
     ]
    }
   ],
   "source": [
    "for i in [5,4,3,2,1]:\n",
    "    print i\n",
    "print \"Blast-off!\""
   ]
  },
  {
   "cell_type": "markdown",
   "metadata": {},
   "source": [
    "## Now use the `for` loop to print all their names\n",
    "\n",
    "If you look at the text above there are several dictionaries inside our `j` dictionary. We can loop through each of these dictionaries by using the following code to get their names."
   ]
  },
  {
   "cell_type": "code",
   "execution_count": 7,
   "metadata": {
    "collapsed": false
   },
   "outputs": [
    {
     "name": "stdout",
     "output_type": "stream",
     "text": [
      "Alexey Ovchinin\n",
      "Oleg Skripochka\n",
      "Jeff Williams\n"
     ]
    }
   ],
   "source": [
    "for i in j['people']:\n",
    "    print i['name']"
   ]
  }
 ],
 "metadata": {
  "kernelspec": {
   "display_name": "Python 2",
   "language": "python",
   "name": "python2"
  },
  "language_info": {
   "codemirror_mode": {
    "name": "ipython",
    "version": 2
   },
   "file_extension": ".py",
   "mimetype": "text/x-python",
   "name": "python",
   "nbconvert_exporter": "python",
   "pygments_lexer": "ipython2",
   "version": "2.7.11"
  }
 },
 "nbformat": 4,
 "nbformat_minor": 0
}
