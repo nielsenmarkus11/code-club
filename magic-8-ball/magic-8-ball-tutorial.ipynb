{
 "cells": [
  {
   "cell_type": "markdown",
   "metadata": {},
   "source": [
    "# MAGIC 8 BALL"
   ]
  },
  {
   "cell_type": "markdown",
   "metadata": {},
   "source": [
    "In python, if there is something that doesn't come with the basic installation we need to download and \"import\" the \"module\". Think of this as downloading someone else's code to be able to program what we need.\n",
    "\n",
    "In the \"random\" module, someone has already programmed a function called \"randint\" that chooses a random number between two numbers."
   ]
  },
  {
   "cell_type": "code",
   "execution_count": 3,
   "metadata": {
    "collapsed": true
   },
   "outputs": [],
   "source": [
    "import random"
   ]
  },
  {
   "cell_type": "markdown",
   "metadata": {},
   "source": [
    "\"Lists\" in python are exactly that, a list of things all saved in one place. Let's create a list of answers in quotes(\"), separating each item on the list with a comma.  \n",
    "\n",
    "Notice if you make your list on multiple lines you need to tell python that the list continues on the next line with the \"\\\" backslash."
   ]
  },
  {
   "cell_type": "code",
   "execution_count": 4,
   "metadata": {
    "collapsed": true
   },
   "outputs": [],
   "source": [
    "answers = [\"It is certain\", \\\n",
    "\"It is decidedly so\", \\\n",
    "\"Without a doubt\", \\\n",
    "\"Yes definitely\", \\\n",
    "\"You may rely on it\", \\\n",
    "\"As I see it yes\", \\\n",
    "\"Most likely\", \\\n",
    "\"Outlook good\", \\\n",
    "\"Yes\", \\\n",
    "\"Signs point to yes\", \\\n",
    "\"Reply hazy try again\", \\\n",
    "\"Ask again later\", \\\n",
    "\"Better not tell you now\", \\\n",
    "\"Cannot predict now\", \\\n",
    "\"Concentrate and ask again\", \\\n",
    "\"Don't count on it\", \\\n",
    "\"My reply is no\", \\\n",
    "\"My sources say no\", \\\n",
    "\"Outlook not so good\", \\\n",
    "\"Very doubtful\"]"
   ]
  },
  {
   "cell_type": "markdown",
   "metadata": {},
   "source": [
    "## Test the answer"
   ]
  },
  {
   "cell_type": "markdown",
   "metadata": {},
   "source": [
    "Now let's use the random.randint() function to select a random answer.  Python starts counting at 0 just like European elevators.  We can use this to get the different items from the list using the syntax \"answers[0]\" for the first item and \"answers[1]\" for the second item."
   ]
  },
  {
   "cell_type": "code",
   "execution_count": 5,
   "metadata": {
    "collapsed": false
   },
   "outputs": [
    {
     "data": {
      "text/plain": [
       "\"Don't count on it\""
      ]
     },
     "execution_count": 5,
     "metadata": {},
     "output_type": "execute_result"
    }
   ],
   "source": [
    "answers[random.randint(0, len(answers))-1]"
   ]
  },
  {
   "cell_type": "markdown",
   "metadata": {},
   "source": [
    "<img src=\"https://atravellingsalesman.files.wordpress.com/2014/06/the_lift_elevator_indicator__very_cool.jpg\"></img>\n",
    "<img src=\"https://atravellingsalesman.files.wordpress.com/2014/06/floor_buttons_inside_the_lift_elevator.jpg\"></img>\n"
   ]
  },
  {
   "cell_type": "markdown",
   "metadata": {},
   "source": [
    "## Build the GUI\n",
    "\n",
    "Now let's put the function inside of a pop-up box to make it interactive and to look nice."
   ]
  },
  {
   "cell_type": "code",
   "execution_count": 6,
   "metadata": {
    "collapsed": false
   },
   "outputs": [],
   "source": [
    "import Tkinter\n",
    "\n",
    "class simpleapp_tk(Tkinter.Tk):\n",
    "    def __init__(self,parent):\n",
    "        Tkinter.Tk.__init__(self,parent)\n",
    "        self.parent = parent\n",
    "        self.initialize()\n",
    "\n",
    "    def initialize(self):\n",
    "        self.grid()\n",
    "\n",
    "        self.entryVariable = Tkinter.StringVar()\n",
    "        self.entry = Tkinter.Entry(self,textvariable=self.entryVariable)\n",
    "        self.entry.grid(column=0,row=0,sticky='EW')\n",
    "        self.entry.bind(\"<Return>\", self.OnPressEnter)\n",
    "        self.entryVariable.set(u\"Enter question here.\")\n",
    "\n",
    "        button = Tkinter.Button(self,text=u\"Ask !\",\n",
    "                                command=self.OnButtonClick)\n",
    "        button.grid(column=1,row=0)\n",
    "\n",
    "        self.labelVariable = Tkinter.StringVar()\n",
    "        label = Tkinter.Label(self,textvariable=self.labelVariable,\n",
    "                              anchor=\"w\",fg=\"white\",bg=\"blue\")\n",
    "        label.grid(column=0,row=1,columnspan=2,sticky='EW')\n",
    "        self.labelVariable.set(u\"Answer: \")\n",
    "\n",
    "        self.grid_columnconfigure(0,weight=1)\n",
    "        self.resizable(True,True)      \n",
    "        self.entry.focus_set()\n",
    "        self.entry.selection_range(0, Tkinter.END)\n",
    "\n",
    "    def OnButtonClick(self):\n",
    "        self.labelVariable.set( \"Answer: \" + answers[random.randint(0, len(answers))-1] )\n",
    "        self.entry.focus_set()\n",
    "        self.entry.selection_range(0, Tkinter.END)\n",
    "\n",
    "    def OnPressEnter(self,event):\n",
    "        self.labelVariable.set( \"Answer: \" + answers[random.randint(0, len(answers))-1] )\n",
    "        self.entry.focus_set()\n",
    "        self.entry.selection_range(0, Tkinter.END)\n",
    "\n",
    "if __name__ == \"__main__\":\n",
    "    app = simpleapp_tk(None)\n",
    "    app.title('Magic 8 Ball')\n",
    "    app.mainloop()"
   ]
  }
 ],
 "metadata": {
  "kernelspec": {
   "display_name": "Python 2",
   "language": "python",
   "name": "python2"
  },
  "language_info": {
   "codemirror_mode": {
    "name": "ipython",
    "version": 2
   },
   "file_extension": ".py",
   "mimetype": "text/x-python",
   "name": "python",
   "nbconvert_exporter": "python",
   "pygments_lexer": "ipython2",
   "version": "2.7.11"
  }
 },
 "nbformat": 4,
 "nbformat_minor": 0
}
