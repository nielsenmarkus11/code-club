{
 "cells": [
  {
   "cell_type": "markdown",
   "metadata": {},
   "source": [
    "# MAGIC 8 BALL"
   ]
  },
  {
   "cell_type": "code",
   "execution_count": 6,
   "metadata": {
    "collapsed": true
   },
   "outputs": [],
   "source": [
    "import random"
   ]
  },
  {
   "cell_type": "code",
   "execution_count": 2,
   "metadata": {
    "collapsed": true
   },
   "outputs": [],
   "source": [
    "answers = [\"It is certain\", \\\n",
    "\"It is decidedly so\", \\\n",
    "\"Without a doubt\", \\\n",
    "\"Yes definitely\", \\\n",
    "\"You may rely on it\", \\\n",
    "\"As I see it yes\", \\\n",
    "\"Most likely\", \\\n",
    "\"Outlook good\", \\\n",
    "\"Yes\", \\\n",
    "\"Signs point to yes\", \\\n",
    "\"Reply hazy try again\", \\\n",
    "\"Ask again later\", \\\n",
    "\"Better not tell you now\", \\\n",
    "\"Cannot predict now\", \\\n",
    "\"Concentrate and ask again\", \\\n",
    "\"Don't count on it\", \\\n",
    "\"My reply is no\", \\\n",
    "\"My sources say no\", \\\n",
    "\"Outlook not so good\", \\\n",
    "\"Very doubtful\"]"
   ]
  },
  {
   "cell_type": "markdown",
   "metadata": {},
   "source": [
    "## Test the answer"
   ]
  },
  {
   "cell_type": "code",
   "execution_count": 15,
   "metadata": {
    "collapsed": false
   },
   "outputs": [
    {
     "data": {
      "text/plain": [
       "'My reply is no'"
      ]
     },
     "execution_count": 15,
     "metadata": {},
     "output_type": "execute_result"
    }
   ],
   "source": [
    "answers[random.randint(0, len(answers))-1]"
   ]
  },
  {
   "cell_type": "markdown",
   "metadata": {},
   "source": [
    "## Build the GUI"
   ]
  },
  {
   "cell_type": "code",
   "execution_count": 36,
   "metadata": {
    "collapsed": true
   },
   "outputs": [],
   "source": [
    "import Tkinter\n",
    "\n",
    "class simpleapp_tk(Tkinter.Tk):\n",
    "    def __init__(self,parent):\n",
    "        Tkinter.Tk.__init__(self,parent)\n",
    "        self.parent = parent\n",
    "        self.initialize()\n",
    "\n",
    "    def initialize(self):\n",
    "        self.grid()\n",
    "\n",
    "        self.entryVariable = Tkinter.StringVar()\n",
    "        self.entry = Tkinter.Entry(self,textvariable=self.entryVariable)\n",
    "        self.entry.grid(column=0,row=0,sticky='EW')\n",
    "        self.entry.bind(\"<Return>\", self.OnPressEnter)\n",
    "        self.entryVariable.set(u\"Enter question here.\")\n",
    "\n",
    "        button = Tkinter.Button(self,text=u\"Ask !\",\n",
    "                                command=self.OnButtonClick)\n",
    "        button.grid(column=1,row=0)\n",
    "\n",
    "        self.labelVariable = Tkinter.StringVar()\n",
    "        label = Tkinter.Label(self,textvariable=self.labelVariable,\n",
    "                              anchor=\"w\",fg=\"white\",bg=\"blue\")\n",
    "        label.grid(column=0,row=1,columnspan=2,sticky='EW')\n",
    "        self.labelVariable.set(u\"Answer: \")\n",
    "\n",
    "        self.grid_columnconfigure(0,weight=1)\n",
    "        self.resizable(True,True)      \n",
    "        self.entry.focus_set()\n",
    "        self.entry.selection_range(0, Tkinter.END)\n",
    "\n",
    "    def OnButtonClick(self):\n",
    "        self.labelVariable.set( \"Answer: \" + answers[random.randint(0, len(answers))-1] )\n",
    "        self.entry.focus_set()\n",
    "        self.entry.selection_range(0, Tkinter.END)\n",
    "\n",
    "    def OnPressEnter(self,event):\n",
    "        self.labelVariable.set( \"Answer: \" + answers[random.randint(0, len(answers))-1] )\n",
    "        self.entry.focus_set()\n",
    "        self.entry.selection_range(0, Tkinter.END)\n",
    "\n",
    "if __name__ == \"__main__\":\n",
    "    app = simpleapp_tk(None)\n",
    "    app.title('Magic 8 Ball')\n",
    "    app.geometry(\"400x47\")\n",
    "    app.mainloop()"
   ]
  }
 ],
 "metadata": {
  "kernelspec": {
   "display_name": "Python 2",
   "language": "python",
   "name": "python2"
  },
  "language_info": {
   "codemirror_mode": {
    "name": "ipython",
    "version": 2
   },
   "file_extension": ".py",
   "mimetype": "text/x-python",
   "name": "python",
   "nbconvert_exporter": "python",
   "pygments_lexer": "ipython2",
   "version": "2.7.11"
  }
 },
 "nbformat": 4,
 "nbformat_minor": 0
}
